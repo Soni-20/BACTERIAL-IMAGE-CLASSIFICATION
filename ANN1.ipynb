{
  "nbformat": 4,
  "nbformat_minor": 0,
  "metadata": {
    "colab": {
      "provenance": [],
      "authorship_tag": "ABX9TyOvLQi8Kfv3mUznvyC9irNs",
      "include_colab_link": true
    },
    "kernelspec": {
      "name": "python3",
      "display_name": "Python 3"
    },
    "language_info": {
      "name": "python"
    }
  },
  "cells": [
    {
      "cell_type": "markdown",
      "metadata": {
        "id": "view-in-github",
        "colab_type": "text"
      },
      "source": [
        "<a href=\"https://colab.research.google.com/github/Soni-20/BACTERIAL-IMAGE-CLASSIFICATION/blob/main/ANN1.ipynb\" target=\"_parent\"><img src=\"https://colab.research.google.com/assets/colab-badge.svg\" alt=\"Open In Colab\"/></a>"
      ]
    },
    {
      "cell_type": "code",
      "execution_count": 10,
      "metadata": {
        "id": "KBBJdoyAimWz"
      },
      "outputs": [],
      "source": [
        "from sklearn.model_selection import train_test_split\n",
        "import os\n",
        "import cv2\n"
      ]
    },
    {
      "cell_type": "code",
      "source": [
        "from google.colab import drive\n",
        "drive.mount('/content/drive')"
      ],
      "metadata": {
        "colab": {
          "base_uri": "https://localhost:8080/"
        },
        "id": "LitEjbhdiubo",
        "outputId": "e3670635-8d28-4d9b-bb82-49714d021d0a"
      },
      "execution_count": 11,
      "outputs": [
        {
          "output_type": "stream",
          "name": "stdout",
          "text": [
            "Drive already mounted at /content/drive; to attempt to forcibly remount, call drive.mount(\"/content/drive\", force_remount=True).\n"
          ]
        }
      ]
    },
    {
      "cell_type": "code",
      "source": [
        "data_path=\"/content/drive/MyDrive/REMAIN-BACT\"\n",
        "#main_folder=\"/content/drive/MyDrive/HUPData/HUPBacteria/Train\"\n",
        "class_names=os.listdir(data_path)\n",
        "print(class_names)"
      ],
      "metadata": {
        "colab": {
          "base_uri": "https://localhost:8080/"
        },
        "id": "F4Cbyji8jV4g",
        "outputId": "e6088605-953d-442b-babc-ba8cdef9ee16"
      },
      "execution_count": 21,
      "outputs": [
        {
          "output_type": "stream",
          "name": "stdout",
          "text": [
            "['ACINETOBACTER', 'Bacteroides.fragilis', 'Bifidobacterium.spp', 'Candida.albicans', 'Clostridium.perfringens', 'Enterococcus.faecalis', 'Enterococcus.faecium', 'Escherichia.coli', 'Fusobacterium', 'Lactobacillus.casei', 'Lactobacillus.crispatus', 'Lactobacillus.delbrueckii', 'Lactobacillus.gasseri', 'Lactobacillus.jehnsenii', 'Lactobacillus.johnsonii', 'Lactobacillus.paracasei', 'Lactobacillus.plantarum', 'Lactobacillus.reuteri', 'Micrococcus_spp', 'Neisseria_gonorrhoeae', 'Porfyromonas_gingivalis', 'Pseudomonas_aeruginosa', 'Propionibacterium_acnes', 'Proteus', 'Staphylococcus_aureus', 'Staphylococcus_saprophiticus', 'Staphylococcus_epidermidis']\n"
          ]
        }
      ]
    },
    {
      "cell_type": "code",
      "source": [
        "data = []\n",
        "labels = []"
      ],
      "metadata": {
        "id": "LaiXo4dNjcO8"
      },
      "execution_count": 22,
      "outputs": []
    },
    {
      "cell_type": "code",
      "source": [
        "for folder in os.listdir(data_path):\n",
        "    # loop over each image in the current folder\n",
        "    for image_file in os.listdir(os.path.join(data_path, folder)):\n",
        "        # load the image using OpenCV\n",
        "        image = cv2.imread(os.path.join(data_path, folder, image_file))\n",
        "        # resize the image to a fixed size (if necessary)\n",
        "        image = cv2.resize(image, (224, 224))\n",
        "        # append the image data and corresponding label to the lists\n",
        "        data.append(image)\n",
        "        labels.append(folder)"
      ],
      "metadata": {
        "id": "NL1ulkRsjySH"
      },
      "execution_count": 23,
      "outputs": []
    },
    {
      "cell_type": "code",
      "source": [
        "X_train, X_test, y_train, y_test = train_test_split(data, labels, test_size=0.2, random_state=42)"
      ],
      "metadata": {
        "id": "Y6sZtdOomzXQ"
      },
      "execution_count": 24,
      "outputs": []
    },
    {
      "cell_type": "code",
      "source": [
        "print('Number of training samples:', len(X_train))\n",
        "print('Number of testing samples:', len(X_test))"
      ],
      "metadata": {
        "id": "sJVntpoCm4q-",
        "outputId": "67ed6cf2-37e3-4367-fb72-a44da29f5dbd",
        "colab": {
          "base_uri": "https://localhost:8080/"
        }
      },
      "execution_count": 25,
      "outputs": [
        {
          "output_type": "stream",
          "name": "stdout",
          "text": [
            "Number of training samples: 341\n",
            "Number of testing samples: 86\n"
          ]
        }
      ]
    },
    {
      "cell_type": "code",
      "source": [
        "import numpy as np\n",
        "import tensorflow as tf\n",
        "from tensorflow import keras\n",
        "\n",
        "# Load the dataset\n",
        "(X_train, y_train), (X_test, y_test) = keras.datasets.mnist.load_data()\n",
        "\n",
        "# Normalize the pixel values\n",
        "X_train = X_train / 255.0\n",
        "X_test = X_test / 255.0\n",
        "\n",
        "# Convert the labels to one-hot encoded vectors\n",
        "y_train = keras.utils.to_categorical(y_train)\n",
        "y_test = keras.utils.to_categorical(y_test)\n",
        "\n",
        "# Define the ANN model\n",
        "model = keras.Sequential([\n",
        "    keras.layers.Flatten(input_shape=(28, 28)),\n",
        "    keras.layers.Dense(128, activation='relu'),\n",
        "    keras.layers.Dense(10, activation='softmax')\n",
        "])\n",
        "\n",
        "# Compile the model\n",
        "model.compile(optimizer='adam', loss='categorical_crossentropy', metrics=['accuracy'])\n",
        "\n",
        "# Train the model\n",
        "model.fit(X_train, y_train, epochs=10, validation_data=(X_test, y_test))\n",
        "\n",
        "# Evaluate the model on the test set\n",
        "test_loss, test_acc = model.evaluate(X_test, y_test)\n",
        "print('Test accuracy:', test_acc)\n"
      ],
      "metadata": {
        "id": "aSfGw_O5pyN1",
        "outputId": "791d3be9-f7ce-45ec-e414-86077e662eed",
        "colab": {
          "base_uri": "https://localhost:8080/"
        }
      },
      "execution_count": 28,
      "outputs": [
        {
          "output_type": "stream",
          "name": "stdout",
          "text": [
            "Downloading data from https://storage.googleapis.com/tensorflow/tf-keras-datasets/mnist.npz\n",
            "11490434/11490434 [==============================] - 0s 0us/step\n",
            "Epoch 1/10\n",
            "1875/1875 [==============================] - 11s 5ms/step - loss: 0.2611 - accuracy: 0.9248 - val_loss: 0.1474 - val_accuracy: 0.9568\n",
            "Epoch 2/10\n",
            "1875/1875 [==============================] - 8s 4ms/step - loss: 0.1141 - accuracy: 0.9660 - val_loss: 0.1002 - val_accuracy: 0.9675\n",
            "Epoch 3/10\n",
            "1875/1875 [==============================] - 10s 5ms/step - loss: 0.0795 - accuracy: 0.9758 - val_loss: 0.0876 - val_accuracy: 0.9743\n",
            "Epoch 4/10\n",
            "1875/1875 [==============================] - 9s 5ms/step - loss: 0.0591 - accuracy: 0.9822 - val_loss: 0.0771 - val_accuracy: 0.9772\n",
            "Epoch 5/10\n",
            "1875/1875 [==============================] - 8s 4ms/step - loss: 0.0457 - accuracy: 0.9863 - val_loss: 0.0780 - val_accuracy: 0.9751\n",
            "Epoch 6/10\n",
            "1875/1875 [==============================] - 9s 5ms/step - loss: 0.0359 - accuracy: 0.9890 - val_loss: 0.0757 - val_accuracy: 0.9762\n",
            "Epoch 7/10\n",
            "1875/1875 [==============================] - 7s 4ms/step - loss: 0.0283 - accuracy: 0.9913 - val_loss: 0.0810 - val_accuracy: 0.9739\n",
            "Epoch 8/10\n",
            "1875/1875 [==============================] - 10s 5ms/step - loss: 0.0251 - accuracy: 0.9921 - val_loss: 0.0717 - val_accuracy: 0.9784\n",
            "Epoch 9/10\n",
            "1875/1875 [==============================] - 8s 4ms/step - loss: 0.0188 - accuracy: 0.9945 - val_loss: 0.0812 - val_accuracy: 0.9772\n",
            "Epoch 10/10\n",
            "1875/1875 [==============================] - 8s 4ms/step - loss: 0.0154 - accuracy: 0.9955 - val_loss: 0.0735 - val_accuracy: 0.9794\n",
            "313/313 [==============================] - 1s 3ms/step - loss: 0.0735 - accuracy: 0.9794\n",
            "Test accuracy: 0.9793999791145325\n"
          ]
        }
      ]
    }
  ]
}