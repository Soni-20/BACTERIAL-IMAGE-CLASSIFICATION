{
  "cells": [
    {
      "cell_type": "markdown",
      "metadata": {
        "id": "view-in-github",
        "colab_type": "text"
      },
      "source": [
        "<a href=\"https://colab.research.google.com/github/Soni-20/BACTERIAL-IMAGE-CLASSIFICATION/blob/main/ResNet34.ipynb\" target=\"_parent\"><img src=\"https://colab.research.google.com/assets/colab-badge.svg\" alt=\"Open In Colab\"/></a>"
      ]
    },
    {
      "cell_type": "code",
      "execution_count": 1,
      "metadata": {
        "id": "xTtlE6ye1Jsj"
      },
      "outputs": [],
      "source": [
        "import torch\n",
        "import torch.nn as nn\n",
        "import torchvision\n"
      ]
    },
    {
      "cell_type": "code",
      "execution_count": 2,
      "metadata": {
        "colab": {
          "base_uri": "https://localhost:8080/"
        },
        "id": "D8c-KpEO6kNb",
        "outputId": "234babd6-64b4-459b-b09d-c0ea509210ab"
      },
      "outputs": [
        {
          "output_type": "stream",
          "name": "stdout",
          "text": [
            "Mounted at /content/drive\n"
          ]
        }
      ],
      "source": [
        "from google.colab import drive\n",
        "drive.mount('/content/drive')"
      ]
    },
    {
      "cell_type": "code",
      "execution_count": 3,
      "metadata": {
        "id": "RlMv-SWl6usP"
      },
      "outputs": [],
      "source": [
        "# Define the ResNet34 model\n",
        "class ResNet34(nn.Module):\n",
        "    def __init__(self, num_classes=1000):\n",
        "        super(ResNet34, self).__init__()\n",
        "        self.model = torchvision.models.resnet34(pretrained=True)\n",
        "        num_ftrs = self.model.fc.in_features\n",
        "        self.model.fc = nn.Linear(num_ftrs, num_classes)\n",
        "\n",
        "    def forward(self, x):\n",
        "        x = self.model(x)\n",
        "        return x\n"
      ]
    },
    {
      "cell_type": "code",
      "execution_count": 4,
      "metadata": {
        "colab": {
          "base_uri": "https://localhost:8080/",
          "height": 156,
          "referenced_widgets": [
            "9930196aafb943e19a0a840590b49ecc",
            "df207b390f39441d8a12da8ad54e7414",
            "e14353105d5b4ceeb127d647e8ba1ae4",
            "68bd06d4793f4588930b37528eba7715",
            "bc21d5273446479a9f6a7cb4664d0220",
            "9b283a38a3ca441883643eff6dd77d83",
            "0ac85a6714a3490e92645f49a2053198",
            "b941b9a09de84ff794e8cccf6fb726d9",
            "05661cd8d7264f9d858104592ee4ad8c",
            "f96a943f4bfd4ab7a1999bd80e8434a0",
            "576321bbad774b2a9b9dcc28b93a800c"
          ]
        },
        "id": "Pjei7XLo8Ky4",
        "outputId": "db2087d1-1eda-4269-a4d8-bc02aa785876"
      },
      "outputs": [
        {
          "output_type": "stream",
          "name": "stderr",
          "text": [
            "/usr/local/lib/python3.8/dist-packages/torchvision/models/_utils.py:208: UserWarning: The parameter 'pretrained' is deprecated since 0.13 and may be removed in the future, please use 'weights' instead.\n",
            "  warnings.warn(\n",
            "/usr/local/lib/python3.8/dist-packages/torchvision/models/_utils.py:223: UserWarning: Arguments other than a weight enum or `None` for 'weights' are deprecated since 0.13 and may be removed in the future. The current behavior is equivalent to passing `weights=ResNet34_Weights.IMAGENET1K_V1`. You can also use `weights=ResNet34_Weights.DEFAULT` to get the most up-to-date weights.\n",
            "  warnings.warn(msg)\n",
            "Downloading: \"https://download.pytorch.org/models/resnet34-b627a593.pth\" to /root/.cache/torch/hub/checkpoints/resnet34-b627a593.pth\n"
          ]
        },
        {
          "output_type": "display_data",
          "data": {
            "text/plain": [
              "  0%|          | 0.00/83.3M [00:00<?, ?B/s]"
            ],
            "application/vnd.jupyter.widget-view+json": {
              "version_major": 2,
              "version_minor": 0,
              "model_id": "9930196aafb943e19a0a840590b49ecc"
            }
          },
          "metadata": {}
        }
      ],
      "source": [
        "# Instantiate the model\n",
        "model = ResNet34(num_classes=10)"
      ]
    },
    {
      "cell_type": "code",
      "execution_count": 5,
      "metadata": {
        "id": "lhRZeINl74c0"
      },
      "outputs": [],
      "source": [
        "# Define the loss function and optimizer\n",
        "criterion = nn.CrossEntropyLoss()\n",
        "optimizer = torch.optim.SGD(model.parameters(), lr=0.001, momentum=0.9)"
      ]
    },
    {
      "cell_type": "code",
      "execution_count": 6,
      "metadata": {
        "colab": {
          "base_uri": "https://localhost:8080/",
          "height": 101,
          "referenced_widgets": [
            "959a58d9b9bf4c028af57d906e1f2d80",
            "7fa1145b33fb435d9eb3c7765dfcd6fa",
            "176ee99963c643f0971a9382c07ccf08",
            "bdf3689254844bf5bd18e02eac6735a3",
            "b35223412534495bba0182d5623e8c4d",
            "f342acce4ab9448dbad8b9435517a985",
            "627a3dfc9ac74d93b9a3d46dcf6a29b1",
            "c35117ea5fa4453e9936667c9eaf7a95",
            "b4cc2a1ae6434a7d882b5243dd076ade",
            "36ab5b1c2a364ace9caee6c0193bdc9b",
            "3369f37b00964beca473e07555c52ed6"
          ]
        },
        "id": "v7nOvzjA-Ewa",
        "outputId": "11e681dd-12b1-43fc-b0bf-9331fbeea8f9"
      },
      "outputs": [
        {
          "output_type": "stream",
          "name": "stdout",
          "text": [
            "Downloading https://www.cs.toronto.edu/~kriz/cifar-10-python.tar.gz to /content/drive/MyDrive/MAIN-PROJECT/cifar-10-python.tar.gz\n"
          ]
        },
        {
          "output_type": "display_data",
          "data": {
            "text/plain": [
              "  0%|          | 0/170498071 [00:00<?, ?it/s]"
            ],
            "application/vnd.jupyter.widget-view+json": {
              "version_major": 2,
              "version_minor": 0,
              "model_id": "959a58d9b9bf4c028af57d906e1f2d80"
            }
          },
          "metadata": {}
        },
        {
          "output_type": "stream",
          "name": "stdout",
          "text": [
            "Extracting /content/drive/MyDrive/MAIN-PROJECT/cifar-10-python.tar.gz to /content/drive/MyDrive/MAIN-PROJECT/\n",
            "Files already downloaded and verified\n"
          ]
        }
      ],
      "source": [
        "# Load the dataset and prepare the data loaders\n",
        "# Here we assume the dataset is already split into train and test sets\n",
        "train_dataset = torchvision.datasets.CIFAR10(root='/content/drive/MyDrive/MAIN-PROJECT/', train=True, download=True, transform=torchvision.transforms.ToTensor())\n",
        "train_loader = torch.utils.data.DataLoader(train_dataset, batch_size=32, shuffle=True)\n",
        "\n",
        "test_dataset = torchvision.datasets.CIFAR10(root='/content/drive/MyDrive/MAIN-PROJECT/', train=False, download=True, transform=torchvision.transforms.ToTensor())\n",
        "test_loader = torch.utils.data.DataLoader(test_dataset, batch_size=32, shuffle=False)\n"
      ]
    },
    {
      "cell_type": "code",
      "execution_count": 7,
      "metadata": {
        "colab": {
          "base_uri": "https://localhost:8080/"
        },
        "id": "ylkRazWC-btl",
        "outputId": "2cf97ec8-41f8-4018-9318-3bb164506948"
      },
      "outputs": [
        {
          "output_type": "stream",
          "name": "stdout",
          "text": [
            "Epoch [1/10], Step [1/1563], Loss: 2.5405\n",
            "Epoch [1/10], Step [101/1563], Loss: 1.5348\n",
            "Epoch [1/10], Step [201/1563], Loss: 1.2825\n",
            "Epoch [1/10], Step [301/1563], Loss: 1.3937\n",
            "Epoch [1/10], Step [401/1563], Loss: 1.0920\n",
            "Epoch [1/10], Step [501/1563], Loss: 0.9853\n",
            "Epoch [1/10], Step [601/1563], Loss: 0.6293\n",
            "Epoch [1/10], Step [701/1563], Loss: 0.9649\n",
            "Epoch [1/10], Step [801/1563], Loss: 1.4978\n",
            "Epoch [1/10], Step [901/1563], Loss: 0.6468\n",
            "Epoch [1/10], Step [1001/1563], Loss: 0.9451\n",
            "Epoch [1/10], Step [1101/1563], Loss: 0.7065\n",
            "Epoch [1/10], Step [1201/1563], Loss: 0.8376\n",
            "Epoch [1/10], Step [1301/1563], Loss: 0.8793\n",
            "Epoch [1/10], Step [1401/1563], Loss: 0.6186\n",
            "Epoch [1/10], Step [1501/1563], Loss: 0.8650\n",
            "Epoch [2/10], Step [1/1563], Loss: 0.6303\n",
            "Epoch [2/10], Step [101/1563], Loss: 0.7140\n",
            "Epoch [2/10], Step [201/1563], Loss: 0.9837\n",
            "Epoch [2/10], Step [301/1563], Loss: 0.4092\n",
            "Epoch [2/10], Step [401/1563], Loss: 0.6313\n",
            "Epoch [2/10], Step [501/1563], Loss: 0.7499\n",
            "Epoch [2/10], Step [601/1563], Loss: 0.6548\n",
            "Epoch [2/10], Step [701/1563], Loss: 0.7149\n",
            "Epoch [2/10], Step [801/1563], Loss: 0.3684\n",
            "Epoch [2/10], Step [901/1563], Loss: 0.6440\n",
            "Epoch [2/10], Step [1001/1563], Loss: 0.5928\n",
            "Epoch [2/10], Step [1101/1563], Loss: 0.4303\n",
            "Epoch [2/10], Step [1201/1563], Loss: 0.7973\n",
            "Epoch [2/10], Step [1301/1563], Loss: 0.5916\n",
            "Epoch [2/10], Step [1401/1563], Loss: 0.6987\n",
            "Epoch [2/10], Step [1501/1563], Loss: 0.6716\n",
            "Epoch [3/10], Step [1/1563], Loss: 0.6109\n",
            "Epoch [3/10], Step [101/1563], Loss: 0.4547\n",
            "Epoch [3/10], Step [201/1563], Loss: 0.4347\n",
            "Epoch [3/10], Step [301/1563], Loss: 0.5047\n",
            "Epoch [3/10], Step [401/1563], Loss: 0.5386\n",
            "Epoch [3/10], Step [501/1563], Loss: 0.5878\n",
            "Epoch [3/10], Step [601/1563], Loss: 0.7937\n",
            "Epoch [3/10], Step [701/1563], Loss: 0.2947\n",
            "Epoch [3/10], Step [801/1563], Loss: 0.5421\n",
            "Epoch [3/10], Step [901/1563], Loss: 0.9486\n",
            "Epoch [3/10], Step [1001/1563], Loss: 0.7104\n",
            "Epoch [3/10], Step [1101/1563], Loss: 0.3868\n",
            "Epoch [3/10], Step [1201/1563], Loss: 0.4634\n",
            "Epoch [3/10], Step [1301/1563], Loss: 0.2842\n",
            "Epoch [3/10], Step [1401/1563], Loss: 0.2749\n",
            "Epoch [3/10], Step [1501/1563], Loss: 0.4087\n",
            "Epoch [4/10], Step [1/1563], Loss: 0.3381\n",
            "Epoch [4/10], Step [101/1563], Loss: 0.3751\n",
            "Epoch [4/10], Step [201/1563], Loss: 0.1767\n",
            "Epoch [4/10], Step [301/1563], Loss: 0.2779\n",
            "Epoch [4/10], Step [401/1563], Loss: 0.1849\n",
            "Epoch [4/10], Step [501/1563], Loss: 0.4844\n",
            "Epoch [4/10], Step [601/1563], Loss: 0.4119\n",
            "Epoch [4/10], Step [701/1563], Loss: 0.5301\n",
            "Epoch [4/10], Step [801/1563], Loss: 0.3075\n",
            "Epoch [4/10], Step [901/1563], Loss: 0.3960\n",
            "Epoch [4/10], Step [1001/1563], Loss: 0.3116\n",
            "Epoch [4/10], Step [1101/1563], Loss: 0.3475\n",
            "Epoch [4/10], Step [1201/1563], Loss: 0.4361\n",
            "Epoch [4/10], Step [1301/1563], Loss: 0.4024\n",
            "Epoch [4/10], Step [1401/1563], Loss: 0.5526\n",
            "Epoch [4/10], Step [1501/1563], Loss: 0.4681\n",
            "Epoch [5/10], Step [1/1563], Loss: 0.2006\n",
            "Epoch [5/10], Step [101/1563], Loss: 0.2805\n",
            "Epoch [5/10], Step [201/1563], Loss: 0.0865\n",
            "Epoch [5/10], Step [301/1563], Loss: 0.3860\n",
            "Epoch [5/10], Step [401/1563], Loss: 0.6943\n",
            "Epoch [5/10], Step [501/1563], Loss: 0.2560\n",
            "Epoch [5/10], Step [601/1563], Loss: 0.2220\n",
            "Epoch [5/10], Step [701/1563], Loss: 0.1965\n",
            "Epoch [5/10], Step [801/1563], Loss: 0.2478\n",
            "Epoch [5/10], Step [901/1563], Loss: 0.3022\n",
            "Epoch [5/10], Step [1001/1563], Loss: 0.2272\n",
            "Epoch [5/10], Step [1101/1563], Loss: 0.3360\n",
            "Epoch [5/10], Step [1201/1563], Loss: 0.1541\n",
            "Epoch [5/10], Step [1301/1563], Loss: 0.2931\n",
            "Epoch [5/10], Step [1401/1563], Loss: 0.5506\n",
            "Epoch [5/10], Step [1501/1563], Loss: 0.4340\n",
            "Epoch [6/10], Step [1/1563], Loss: 0.2319\n",
            "Epoch [6/10], Step [101/1563], Loss: 0.0935\n",
            "Epoch [6/10], Step [201/1563], Loss: 0.1425\n",
            "Epoch [6/10], Step [301/1563], Loss: 0.1980\n",
            "Epoch [6/10], Step [401/1563], Loss: 0.1714\n",
            "Epoch [6/10], Step [501/1563], Loss: 0.1769\n",
            "Epoch [6/10], Step [601/1563], Loss: 0.1121\n",
            "Epoch [6/10], Step [701/1563], Loss: 0.1931\n",
            "Epoch [6/10], Step [801/1563], Loss: 0.6445\n",
            "Epoch [6/10], Step [901/1563], Loss: 0.1346\n",
            "Epoch [6/10], Step [1001/1563], Loss: 0.1515\n",
            "Epoch [6/10], Step [1101/1563], Loss: 0.2595\n",
            "Epoch [6/10], Step [1201/1563], Loss: 0.3032\n",
            "Epoch [6/10], Step [1301/1563], Loss: 0.2847\n",
            "Epoch [6/10], Step [1401/1563], Loss: 0.1735\n",
            "Epoch [6/10], Step [1501/1563], Loss: 0.2506\n",
            "Epoch [7/10], Step [1/1563], Loss: 0.1531\n",
            "Epoch [7/10], Step [101/1563], Loss: 0.3017\n",
            "Epoch [7/10], Step [201/1563], Loss: 0.1065\n",
            "Epoch [7/10], Step [301/1563], Loss: 0.1718\n",
            "Epoch [7/10], Step [401/1563], Loss: 0.1879\n",
            "Epoch [7/10], Step [501/1563], Loss: 0.4015\n",
            "Epoch [7/10], Step [601/1563], Loss: 0.3970\n",
            "Epoch [7/10], Step [701/1563], Loss: 0.0697\n",
            "Epoch [7/10], Step [801/1563], Loss: 0.2119\n",
            "Epoch [7/10], Step [901/1563], Loss: 0.1544\n",
            "Epoch [7/10], Step [1001/1563], Loss: 0.2348\n",
            "Epoch [7/10], Step [1101/1563], Loss: 0.2132\n",
            "Epoch [7/10], Step [1201/1563], Loss: 0.0600\n",
            "Epoch [7/10], Step [1301/1563], Loss: 0.0823\n",
            "Epoch [7/10], Step [1401/1563], Loss: 0.0640\n",
            "Epoch [7/10], Step [1501/1563], Loss: 0.2599\n",
            "Epoch [8/10], Step [1/1563], Loss: 0.0356\n",
            "Epoch [8/10], Step [101/1563], Loss: 0.2204\n",
            "Epoch [8/10], Step [201/1563], Loss: 0.1401\n",
            "Epoch [8/10], Step [301/1563], Loss: 0.0207\n",
            "Epoch [8/10], Step [401/1563], Loss: 0.1421\n",
            "Epoch [8/10], Step [501/1563], Loss: 0.0265\n",
            "Epoch [8/10], Step [601/1563], Loss: 0.0468\n",
            "Epoch [8/10], Step [701/1563], Loss: 0.0465\n",
            "Epoch [8/10], Step [801/1563], Loss: 0.0762\n",
            "Epoch [8/10], Step [901/1563], Loss: 0.1999\n",
            "Epoch [8/10], Step [1001/1563], Loss: 0.1033\n",
            "Epoch [8/10], Step [1101/1563], Loss: 0.0839\n",
            "Epoch [8/10], Step [1201/1563], Loss: 0.1719\n",
            "Epoch [8/10], Step [1301/1563], Loss: 0.1221\n",
            "Epoch [8/10], Step [1401/1563], Loss: 0.1047\n",
            "Epoch [8/10], Step [1501/1563], Loss: 0.3176\n",
            "Epoch [9/10], Step [1/1563], Loss: 0.1192\n",
            "Epoch [9/10], Step [101/1563], Loss: 0.1777\n",
            "Epoch [9/10], Step [201/1563], Loss: 0.0986\n",
            "Epoch [9/10], Step [301/1563], Loss: 0.0980\n",
            "Epoch [9/10], Step [401/1563], Loss: 0.0305\n",
            "Epoch [9/10], Step [501/1563], Loss: 0.1717\n",
            "Epoch [9/10], Step [601/1563], Loss: 0.0581\n",
            "Epoch [9/10], Step [701/1563], Loss: 0.2326\n",
            "Epoch [9/10], Step [801/1563], Loss: 0.1486\n",
            "Epoch [9/10], Step [901/1563], Loss: 0.1730\n",
            "Epoch [9/10], Step [1001/1563], Loss: 0.0254\n",
            "Epoch [9/10], Step [1101/1563], Loss: 0.2673\n",
            "Epoch [9/10], Step [1201/1563], Loss: 0.2229\n",
            "Epoch [9/10], Step [1301/1563], Loss: 0.1559\n",
            "Epoch [9/10], Step [1401/1563], Loss: 0.0507\n",
            "Epoch [9/10], Step [1501/1563], Loss: 0.2403\n",
            "Epoch [10/10], Step [1/1563], Loss: 0.0313\n",
            "Epoch [10/10], Step [101/1563], Loss: 0.0382\n",
            "Epoch [10/10], Step [201/1563], Loss: 0.0038\n",
            "Epoch [10/10], Step [301/1563], Loss: 0.0404\n",
            "Epoch [10/10], Step [401/1563], Loss: 0.0467\n",
            "Epoch [10/10], Step [501/1563], Loss: 0.1222\n",
            "Epoch [10/10], Step [601/1563], Loss: 0.0394\n",
            "Epoch [10/10], Step [701/1563], Loss: 0.0501\n",
            "Epoch [10/10], Step [801/1563], Loss: 0.2306\n",
            "Epoch [10/10], Step [901/1563], Loss: 0.1043\n",
            "Epoch [10/10], Step [1001/1563], Loss: 0.1416\n",
            "Epoch [10/10], Step [1101/1563], Loss: 0.0683\n",
            "Epoch [10/10], Step [1201/1563], Loss: 0.0744\n",
            "Epoch [10/10], Step [1301/1563], Loss: 0.0347\n",
            "Epoch [10/10], Step [1401/1563], Loss: 0.0371\n",
            "Epoch [10/10], Step [1501/1563], Loss: 0.1519\n"
          ]
        }
      ],
      "source": [
        "for epoch in range(10):\n",
        "    for i, (inputs, labels) in enumerate(train_loader):\n",
        "        optimizer.zero_grad()\n",
        "        outputs = model(inputs)\n",
        "        loss = criterion(outputs, labels)\n",
        "        loss.backward()\n",
        "        optimizer.step()\n",
        "\n",
        "        if i % 100 == 0:\n",
        "            print(f'Epoch [{epoch+1}/{10}], Step [{i+1}/{len(train_loader)}], Loss: {loss.item():.4f}')\n"
      ]
    },
    {
      "cell_type": "code",
      "execution_count": 8,
      "metadata": {
        "id": "UJNt8kJRNhxS",
        "colab": {
          "base_uri": "https://localhost:8080/"
        },
        "outputId": "7403e348-bcb0-4353-bdc0-d2f588d44d99"
      },
      "outputs": [
        {
          "output_type": "stream",
          "name": "stdout",
          "text": [
            "Test Accuracy: 82.79%\n"
          ]
        }
      ],
      "source": [
        "model.eval()\n",
        "with torch.no_grad():\n",
        "    correct = 0\n",
        "    total = 0\n",
        "    for inputs, labels in test_loader:\n",
        "        outputs = model(inputs)\n",
        "        _, predicted = torch.max(outputs.data, 1)\n",
        "        total += labels.size(0)\n",
        "        correct += (predicted == labels).sum().item()\n",
        "\n",
        "    print(f'Test Accuracy: {100 * correct / total:.2f}%')"
      ]
    }
  ],
  "metadata": {
    "colab": {
      "provenance": [],
      "authorship_tag": "ABX9TyMYWReWCc6jPgbC2AtoVpuE",
      "include_colab_link": true
    },
    "kernelspec": {
      "display_name": "Python 3",
      "name": "python3"
    },
    "language_info": {
      "name": "python"
    },
    "widgets": {
      "application/vnd.jupyter.widget-state+json": {
        "9930196aafb943e19a0a840590b49ecc": {
          "model_module": "@jupyter-widgets/controls",
          "model_name": "HBoxModel",
          "model_module_version": "1.5.0",
          "state": {
            "_dom_classes": [],
            "_model_module": "@jupyter-widgets/controls",
            "_model_module_version": "1.5.0",
            "_model_name": "HBoxModel",
            "_view_count": null,
            "_view_module": "@jupyter-widgets/controls",
            "_view_module_version": "1.5.0",
            "_view_name": "HBoxView",
            "box_style": "",
            "children": [
              "IPY_MODEL_df207b390f39441d8a12da8ad54e7414",
              "IPY_MODEL_e14353105d5b4ceeb127d647e8ba1ae4",
              "IPY_MODEL_68bd06d4793f4588930b37528eba7715"
            ],
            "layout": "IPY_MODEL_bc21d5273446479a9f6a7cb4664d0220"
          }
        },
        "df207b390f39441d8a12da8ad54e7414": {
          "model_module": "@jupyter-widgets/controls",
          "model_name": "HTMLModel",
          "model_module_version": "1.5.0",
          "state": {
            "_dom_classes": [],
            "_model_module": "@jupyter-widgets/controls",
            "_model_module_version": "1.5.0",
            "_model_name": "HTMLModel",
            "_view_count": null,
            "_view_module": "@jupyter-widgets/controls",
            "_view_module_version": "1.5.0",
            "_view_name": "HTMLView",
            "description": "",
            "description_tooltip": null,
            "layout": "IPY_MODEL_9b283a38a3ca441883643eff6dd77d83",
            "placeholder": "​",
            "style": "IPY_MODEL_0ac85a6714a3490e92645f49a2053198",
            "value": "100%"
          }
        },
        "e14353105d5b4ceeb127d647e8ba1ae4": {
          "model_module": "@jupyter-widgets/controls",
          "model_name": "FloatProgressModel",
          "model_module_version": "1.5.0",
          "state": {
            "_dom_classes": [],
            "_model_module": "@jupyter-widgets/controls",
            "_model_module_version": "1.5.0",
            "_model_name": "FloatProgressModel",
            "_view_count": null,
            "_view_module": "@jupyter-widgets/controls",
            "_view_module_version": "1.5.0",
            "_view_name": "ProgressView",
            "bar_style": "success",
            "description": "",
            "description_tooltip": null,
            "layout": "IPY_MODEL_b941b9a09de84ff794e8cccf6fb726d9",
            "max": 87319819,
            "min": 0,
            "orientation": "horizontal",
            "style": "IPY_MODEL_05661cd8d7264f9d858104592ee4ad8c",
            "value": 87319819
          }
        },
        "68bd06d4793f4588930b37528eba7715": {
          "model_module": "@jupyter-widgets/controls",
          "model_name": "HTMLModel",
          "model_module_version": "1.5.0",
          "state": {
            "_dom_classes": [],
            "_model_module": "@jupyter-widgets/controls",
            "_model_module_version": "1.5.0",
            "_model_name": "HTMLModel",
            "_view_count": null,
            "_view_module": "@jupyter-widgets/controls",
            "_view_module_version": "1.5.0",
            "_view_name": "HTMLView",
            "description": "",
            "description_tooltip": null,
            "layout": "IPY_MODEL_f96a943f4bfd4ab7a1999bd80e8434a0",
            "placeholder": "​",
            "style": "IPY_MODEL_576321bbad774b2a9b9dcc28b93a800c",
            "value": " 83.3M/83.3M [00:01&lt;00:00, 90.8MB/s]"
          }
        },
        "bc21d5273446479a9f6a7cb4664d0220": {
          "model_module": "@jupyter-widgets/base",
          "model_name": "LayoutModel",
          "model_module_version": "1.2.0",
          "state": {
            "_model_module": "@jupyter-widgets/base",
            "_model_module_version": "1.2.0",
            "_model_name": "LayoutModel",
            "_view_count": null,
            "_view_module": "@jupyter-widgets/base",
            "_view_module_version": "1.2.0",
            "_view_name": "LayoutView",
            "align_content": null,
            "align_items": null,
            "align_self": null,
            "border": null,
            "bottom": null,
            "display": null,
            "flex": null,
            "flex_flow": null,
            "grid_area": null,
            "grid_auto_columns": null,
            "grid_auto_flow": null,
            "grid_auto_rows": null,
            "grid_column": null,
            "grid_gap": null,
            "grid_row": null,
            "grid_template_areas": null,
            "grid_template_columns": null,
            "grid_template_rows": null,
            "height": null,
            "justify_content": null,
            "justify_items": null,
            "left": null,
            "margin": null,
            "max_height": null,
            "max_width": null,
            "min_height": null,
            "min_width": null,
            "object_fit": null,
            "object_position": null,
            "order": null,
            "overflow": null,
            "overflow_x": null,
            "overflow_y": null,
            "padding": null,
            "right": null,
            "top": null,
            "visibility": null,
            "width": null
          }
        },
        "9b283a38a3ca441883643eff6dd77d83": {
          "model_module": "@jupyter-widgets/base",
          "model_name": "LayoutModel",
          "model_module_version": "1.2.0",
          "state": {
            "_model_module": "@jupyter-widgets/base",
            "_model_module_version": "1.2.0",
            "_model_name": "LayoutModel",
            "_view_count": null,
            "_view_module": "@jupyter-widgets/base",
            "_view_module_version": "1.2.0",
            "_view_name": "LayoutView",
            "align_content": null,
            "align_items": null,
            "align_self": null,
            "border": null,
            "bottom": null,
            "display": null,
            "flex": null,
            "flex_flow": null,
            "grid_area": null,
            "grid_auto_columns": null,
            "grid_auto_flow": null,
            "grid_auto_rows": null,
            "grid_column": null,
            "grid_gap": null,
            "grid_row": null,
            "grid_template_areas": null,
            "grid_template_columns": null,
            "grid_template_rows": null,
            "height": null,
            "justify_content": null,
            "justify_items": null,
            "left": null,
            "margin": null,
            "max_height": null,
            "max_width": null,
            "min_height": null,
            "min_width": null,
            "object_fit": null,
            "object_position": null,
            "order": null,
            "overflow": null,
            "overflow_x": null,
            "overflow_y": null,
            "padding": null,
            "right": null,
            "top": null,
            "visibility": null,
            "width": null
          }
        },
        "0ac85a6714a3490e92645f49a2053198": {
          "model_module": "@jupyter-widgets/controls",
          "model_name": "DescriptionStyleModel",
          "model_module_version": "1.5.0",
          "state": {
            "_model_module": "@jupyter-widgets/controls",
            "_model_module_version": "1.5.0",
            "_model_name": "DescriptionStyleModel",
            "_view_count": null,
            "_view_module": "@jupyter-widgets/base",
            "_view_module_version": "1.2.0",
            "_view_name": "StyleView",
            "description_width": ""
          }
        },
        "b941b9a09de84ff794e8cccf6fb726d9": {
          "model_module": "@jupyter-widgets/base",
          "model_name": "LayoutModel",
          "model_module_version": "1.2.0",
          "state": {
            "_model_module": "@jupyter-widgets/base",
            "_model_module_version": "1.2.0",
            "_model_name": "LayoutModel",
            "_view_count": null,
            "_view_module": "@jupyter-widgets/base",
            "_view_module_version": "1.2.0",
            "_view_name": "LayoutView",
            "align_content": null,
            "align_items": null,
            "align_self": null,
            "border": null,
            "bottom": null,
            "display": null,
            "flex": null,
            "flex_flow": null,
            "grid_area": null,
            "grid_auto_columns": null,
            "grid_auto_flow": null,
            "grid_auto_rows": null,
            "grid_column": null,
            "grid_gap": null,
            "grid_row": null,
            "grid_template_areas": null,
            "grid_template_columns": null,
            "grid_template_rows": null,
            "height": null,
            "justify_content": null,
            "justify_items": null,
            "left": null,
            "margin": null,
            "max_height": null,
            "max_width": null,
            "min_height": null,
            "min_width": null,
            "object_fit": null,
            "object_position": null,
            "order": null,
            "overflow": null,
            "overflow_x": null,
            "overflow_y": null,
            "padding": null,
            "right": null,
            "top": null,
            "visibility": null,
            "width": null
          }
        },
        "05661cd8d7264f9d858104592ee4ad8c": {
          "model_module": "@jupyter-widgets/controls",
          "model_name": "ProgressStyleModel",
          "model_module_version": "1.5.0",
          "state": {
            "_model_module": "@jupyter-widgets/controls",
            "_model_module_version": "1.5.0",
            "_model_name": "ProgressStyleModel",
            "_view_count": null,
            "_view_module": "@jupyter-widgets/base",
            "_view_module_version": "1.2.0",
            "_view_name": "StyleView",
            "bar_color": null,
            "description_width": ""
          }
        },
        "f96a943f4bfd4ab7a1999bd80e8434a0": {
          "model_module": "@jupyter-widgets/base",
          "model_name": "LayoutModel",
          "model_module_version": "1.2.0",
          "state": {
            "_model_module": "@jupyter-widgets/base",
            "_model_module_version": "1.2.0",
            "_model_name": "LayoutModel",
            "_view_count": null,
            "_view_module": "@jupyter-widgets/base",
            "_view_module_version": "1.2.0",
            "_view_name": "LayoutView",
            "align_content": null,
            "align_items": null,
            "align_self": null,
            "border": null,
            "bottom": null,
            "display": null,
            "flex": null,
            "flex_flow": null,
            "grid_area": null,
            "grid_auto_columns": null,
            "grid_auto_flow": null,
            "grid_auto_rows": null,
            "grid_column": null,
            "grid_gap": null,
            "grid_row": null,
            "grid_template_areas": null,
            "grid_template_columns": null,
            "grid_template_rows": null,
            "height": null,
            "justify_content": null,
            "justify_items": null,
            "left": null,
            "margin": null,
            "max_height": null,
            "max_width": null,
            "min_height": null,
            "min_width": null,
            "object_fit": null,
            "object_position": null,
            "order": null,
            "overflow": null,
            "overflow_x": null,
            "overflow_y": null,
            "padding": null,
            "right": null,
            "top": null,
            "visibility": null,
            "width": null
          }
        },
        "576321bbad774b2a9b9dcc28b93a800c": {
          "model_module": "@jupyter-widgets/controls",
          "model_name": "DescriptionStyleModel",
          "model_module_version": "1.5.0",
          "state": {
            "_model_module": "@jupyter-widgets/controls",
            "_model_module_version": "1.5.0",
            "_model_name": "DescriptionStyleModel",
            "_view_count": null,
            "_view_module": "@jupyter-widgets/base",
            "_view_module_version": "1.2.0",
            "_view_name": "StyleView",
            "description_width": ""
          }
        },
        "959a58d9b9bf4c028af57d906e1f2d80": {
          "model_module": "@jupyter-widgets/controls",
          "model_name": "HBoxModel",
          "model_module_version": "1.5.0",
          "state": {
            "_dom_classes": [],
            "_model_module": "@jupyter-widgets/controls",
            "_model_module_version": "1.5.0",
            "_model_name": "HBoxModel",
            "_view_count": null,
            "_view_module": "@jupyter-widgets/controls",
            "_view_module_version": "1.5.0",
            "_view_name": "HBoxView",
            "box_style": "",
            "children": [
              "IPY_MODEL_7fa1145b33fb435d9eb3c7765dfcd6fa",
              "IPY_MODEL_176ee99963c643f0971a9382c07ccf08",
              "IPY_MODEL_bdf3689254844bf5bd18e02eac6735a3"
            ],
            "layout": "IPY_MODEL_b35223412534495bba0182d5623e8c4d"
          }
        },
        "7fa1145b33fb435d9eb3c7765dfcd6fa": {
          "model_module": "@jupyter-widgets/controls",
          "model_name": "HTMLModel",
          "model_module_version": "1.5.0",
          "state": {
            "_dom_classes": [],
            "_model_module": "@jupyter-widgets/controls",
            "_model_module_version": "1.5.0",
            "_model_name": "HTMLModel",
            "_view_count": null,
            "_view_module": "@jupyter-widgets/controls",
            "_view_module_version": "1.5.0",
            "_view_name": "HTMLView",
            "description": "",
            "description_tooltip": null,
            "layout": "IPY_MODEL_f342acce4ab9448dbad8b9435517a985",
            "placeholder": "​",
            "style": "IPY_MODEL_627a3dfc9ac74d93b9a3d46dcf6a29b1",
            "value": "100%"
          }
        },
        "176ee99963c643f0971a9382c07ccf08": {
          "model_module": "@jupyter-widgets/controls",
          "model_name": "FloatProgressModel",
          "model_module_version": "1.5.0",
          "state": {
            "_dom_classes": [],
            "_model_module": "@jupyter-widgets/controls",
            "_model_module_version": "1.5.0",
            "_model_name": "FloatProgressModel",
            "_view_count": null,
            "_view_module": "@jupyter-widgets/controls",
            "_view_module_version": "1.5.0",
            "_view_name": "ProgressView",
            "bar_style": "success",
            "description": "",
            "description_tooltip": null,
            "layout": "IPY_MODEL_c35117ea5fa4453e9936667c9eaf7a95",
            "max": 170498071,
            "min": 0,
            "orientation": "horizontal",
            "style": "IPY_MODEL_b4cc2a1ae6434a7d882b5243dd076ade",
            "value": 170498071
          }
        },
        "bdf3689254844bf5bd18e02eac6735a3": {
          "model_module": "@jupyter-widgets/controls",
          "model_name": "HTMLModel",
          "model_module_version": "1.5.0",
          "state": {
            "_dom_classes": [],
            "_model_module": "@jupyter-widgets/controls",
            "_model_module_version": "1.5.0",
            "_model_name": "HTMLModel",
            "_view_count": null,
            "_view_module": "@jupyter-widgets/controls",
            "_view_module_version": "1.5.0",
            "_view_name": "HTMLView",
            "description": "",
            "description_tooltip": null,
            "layout": "IPY_MODEL_36ab5b1c2a364ace9caee6c0193bdc9b",
            "placeholder": "​",
            "style": "IPY_MODEL_3369f37b00964beca473e07555c52ed6",
            "value": " 170498071/170498071 [00:04&lt;00:00, 44511376.87it/s]"
          }
        },
        "b35223412534495bba0182d5623e8c4d": {
          "model_module": "@jupyter-widgets/base",
          "model_name": "LayoutModel",
          "model_module_version": "1.2.0",
          "state": {
            "_model_module": "@jupyter-widgets/base",
            "_model_module_version": "1.2.0",
            "_model_name": "LayoutModel",
            "_view_count": null,
            "_view_module": "@jupyter-widgets/base",
            "_view_module_version": "1.2.0",
            "_view_name": "LayoutView",
            "align_content": null,
            "align_items": null,
            "align_self": null,
            "border": null,
            "bottom": null,
            "display": null,
            "flex": null,
            "flex_flow": null,
            "grid_area": null,
            "grid_auto_columns": null,
            "grid_auto_flow": null,
            "grid_auto_rows": null,
            "grid_column": null,
            "grid_gap": null,
            "grid_row": null,
            "grid_template_areas": null,
            "grid_template_columns": null,
            "grid_template_rows": null,
            "height": null,
            "justify_content": null,
            "justify_items": null,
            "left": null,
            "margin": null,
            "max_height": null,
            "max_width": null,
            "min_height": null,
            "min_width": null,
            "object_fit": null,
            "object_position": null,
            "order": null,
            "overflow": null,
            "overflow_x": null,
            "overflow_y": null,
            "padding": null,
            "right": null,
            "top": null,
            "visibility": null,
            "width": null
          }
        },
        "f342acce4ab9448dbad8b9435517a985": {
          "model_module": "@jupyter-widgets/base",
          "model_name": "LayoutModel",
          "model_module_version": "1.2.0",
          "state": {
            "_model_module": "@jupyter-widgets/base",
            "_model_module_version": "1.2.0",
            "_model_name": "LayoutModel",
            "_view_count": null,
            "_view_module": "@jupyter-widgets/base",
            "_view_module_version": "1.2.0",
            "_view_name": "LayoutView",
            "align_content": null,
            "align_items": null,
            "align_self": null,
            "border": null,
            "bottom": null,
            "display": null,
            "flex": null,
            "flex_flow": null,
            "grid_area": null,
            "grid_auto_columns": null,
            "grid_auto_flow": null,
            "grid_auto_rows": null,
            "grid_column": null,
            "grid_gap": null,
            "grid_row": null,
            "grid_template_areas": null,
            "grid_template_columns": null,
            "grid_template_rows": null,
            "height": null,
            "justify_content": null,
            "justify_items": null,
            "left": null,
            "margin": null,
            "max_height": null,
            "max_width": null,
            "min_height": null,
            "min_width": null,
            "object_fit": null,
            "object_position": null,
            "order": null,
            "overflow": null,
            "overflow_x": null,
            "overflow_y": null,
            "padding": null,
            "right": null,
            "top": null,
            "visibility": null,
            "width": null
          }
        },
        "627a3dfc9ac74d93b9a3d46dcf6a29b1": {
          "model_module": "@jupyter-widgets/controls",
          "model_name": "DescriptionStyleModel",
          "model_module_version": "1.5.0",
          "state": {
            "_model_module": "@jupyter-widgets/controls",
            "_model_module_version": "1.5.0",
            "_model_name": "DescriptionStyleModel",
            "_view_count": null,
            "_view_module": "@jupyter-widgets/base",
            "_view_module_version": "1.2.0",
            "_view_name": "StyleView",
            "description_width": ""
          }
        },
        "c35117ea5fa4453e9936667c9eaf7a95": {
          "model_module": "@jupyter-widgets/base",
          "model_name": "LayoutModel",
          "model_module_version": "1.2.0",
          "state": {
            "_model_module": "@jupyter-widgets/base",
            "_model_module_version": "1.2.0",
            "_model_name": "LayoutModel",
            "_view_count": null,
            "_view_module": "@jupyter-widgets/base",
            "_view_module_version": "1.2.0",
            "_view_name": "LayoutView",
            "align_content": null,
            "align_items": null,
            "align_self": null,
            "border": null,
            "bottom": null,
            "display": null,
            "flex": null,
            "flex_flow": null,
            "grid_area": null,
            "grid_auto_columns": null,
            "grid_auto_flow": null,
            "grid_auto_rows": null,
            "grid_column": null,
            "grid_gap": null,
            "grid_row": null,
            "grid_template_areas": null,
            "grid_template_columns": null,
            "grid_template_rows": null,
            "height": null,
            "justify_content": null,
            "justify_items": null,
            "left": null,
            "margin": null,
            "max_height": null,
            "max_width": null,
            "min_height": null,
            "min_width": null,
            "object_fit": null,
            "object_position": null,
            "order": null,
            "overflow": null,
            "overflow_x": null,
            "overflow_y": null,
            "padding": null,
            "right": null,
            "top": null,
            "visibility": null,
            "width": null
          }
        },
        "b4cc2a1ae6434a7d882b5243dd076ade": {
          "model_module": "@jupyter-widgets/controls",
          "model_name": "ProgressStyleModel",
          "model_module_version": "1.5.0",
          "state": {
            "_model_module": "@jupyter-widgets/controls",
            "_model_module_version": "1.5.0",
            "_model_name": "ProgressStyleModel",
            "_view_count": null,
            "_view_module": "@jupyter-widgets/base",
            "_view_module_version": "1.2.0",
            "_view_name": "StyleView",
            "bar_color": null,
            "description_width": ""
          }
        },
        "36ab5b1c2a364ace9caee6c0193bdc9b": {
          "model_module": "@jupyter-widgets/base",
          "model_name": "LayoutModel",
          "model_module_version": "1.2.0",
          "state": {
            "_model_module": "@jupyter-widgets/base",
            "_model_module_version": "1.2.0",
            "_model_name": "LayoutModel",
            "_view_count": null,
            "_view_module": "@jupyter-widgets/base",
            "_view_module_version": "1.2.0",
            "_view_name": "LayoutView",
            "align_content": null,
            "align_items": null,
            "align_self": null,
            "border": null,
            "bottom": null,
            "display": null,
            "flex": null,
            "flex_flow": null,
            "grid_area": null,
            "grid_auto_columns": null,
            "grid_auto_flow": null,
            "grid_auto_rows": null,
            "grid_column": null,
            "grid_gap": null,
            "grid_row": null,
            "grid_template_areas": null,
            "grid_template_columns": null,
            "grid_template_rows": null,
            "height": null,
            "justify_content": null,
            "justify_items": null,
            "left": null,
            "margin": null,
            "max_height": null,
            "max_width": null,
            "min_height": null,
            "min_width": null,
            "object_fit": null,
            "object_position": null,
            "order": null,
            "overflow": null,
            "overflow_x": null,
            "overflow_y": null,
            "padding": null,
            "right": null,
            "top": null,
            "visibility": null,
            "width": null
          }
        },
        "3369f37b00964beca473e07555c52ed6": {
          "model_module": "@jupyter-widgets/controls",
          "model_name": "DescriptionStyleModel",
          "model_module_version": "1.5.0",
          "state": {
            "_model_module": "@jupyter-widgets/controls",
            "_model_module_version": "1.5.0",
            "_model_name": "DescriptionStyleModel",
            "_view_count": null,
            "_view_module": "@jupyter-widgets/base",
            "_view_module_version": "1.2.0",
            "_view_name": "StyleView",
            "description_width": ""
          }
        }
      }
    }
  },
  "nbformat": 4,
  "nbformat_minor": 0
}